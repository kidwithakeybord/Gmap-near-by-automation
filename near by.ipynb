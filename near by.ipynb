{
 "cells": [
  {
   "cell_type": "code",
   "execution_count": 1,
   "metadata": {},
   "outputs": [],
   "source": [
    "import lxml.html as lh\n",
    "import pandas as pd\n",
    "import csv\n",
    "from bs4 import BeautifulSoup\n",
    "from selenium import webdriver\n",
    "from time import sleep"
   ]
  },
  {
   "cell_type": "code",
   "execution_count": 88,
   "metadata": {},
   "outputs": [],
   "source": [
    "driver = webdriver.Chrome(executable_path=r'C:\\Users\\Justin Robin\\.wdm\\drivers\\chromedriver\\83.0.4103.39\\win32\\chromedriver.exe')   \n",
    "url = 'https://www.google.co.in/maps'\n",
    "driver.get(url) "
   ]
  },
  {
   "cell_type": "code",
   "execution_count": 90,
   "metadata": {},
   "outputs": [],
   "source": [
    "links=[]\n",
    "office_type=[]\n",
    "add=[]\n",
    "sleep(5)\n",
    "driver.find_element_by_xpath('//*[@id=\"searchboxinput\"]').send_keys('vancouver')\n",
    "driver.find_element_by_xpath('//*[@id=\"searchbox-searchbutton\"]').click()\n",
    "sleep(5)\n",
    "driver.find_element_by_xpath('//*[@id=\"pane\"]/div/div[1]/div/div/div[5]/div[3]/div/button/img').click()\n",
    "driver.find_element_by_xpath('//*[@id=\"searchboxinput\"]').send_keys('real estate agents')\n",
    "driver.find_element_by_xpath('//*[@id=\"searchbox-searchbutton\"]').click()\n",
    "sleep(5)\n",
    "soup=BeautifulSoup(driver.page_source,\"html.parser\")\n",
    "page=soup.find('span',{'class':'n7lv7yjyC35__left'}).text\n",
    "listing=int(page[-4:])\n",
    "for searchlink in soup.findAll('div',{\"class\":\"section-result-content\"}):\n",
    "    try:\n",
    "        links.append(searchlink.find('a').get('href'))\n",
    "        office_type.append(searchlink.find('span',{'class':\"section-result-details\"}).text)\n",
    "        add.append(searchlink.find('span',{'class':\"section-result-location\"}).text)\n",
    "    except:\n",
    "        continue\n",
    "while listing < 180:\n",
    "    driver.find_element_by_xpath('//*[@id=\"n7lv7yjyC35__section-pagination-button-next\"]/span').click()\n",
    "    for searchlink in soup.findAll('div',{\"class\":\"section-result-content\"}):\n",
    "        try:\n",
    "            soup=BeautifulSoup(driver.page_source,\"html.parser\")\n",
    "            links.append(searchlink.find('a').get('href'))\n",
    "            office_type.append(searchlink.find('span',{'class':\"section-result-details\"}).text)\n",
    "            add.append(searchlink.find('span',{'class':\"section-result-location\"}).text)\n",
    "        except:\n",
    "            links.append(\"Na\")\n",
    "            office_type.append(\"Na\")\n",
    "            add.append(\"Na\")\n",
    "            continue\n",
    "    page=soup.find('span',{'class':'n7lv7yjyC35__left'}).text\n",
    "    listing=int(page[-4:])"
   ]
  },
  {
   "cell_type": "code",
   "execution_count": 91,
   "metadata": {},
   "outputs": [
    {
     "name": "stdout",
     "output_type": "stream",
     "text": [
      "180\n",
      "180\n",
      "180\n"
     ]
    }
   ],
   "source": [
    "print(len(links))\n",
    "print(len(office_type))\n",
    "print(len(add))"
   ]
  },
  {
   "cell_type": "code",
   "execution_count": 95,
   "metadata": {},
   "outputs": [
    {
     "data": {
      "text/html": [
       "<div>\n",
       "<style scoped>\n",
       "    .dataframe tbody tr th:only-of-type {\n",
       "        vertical-align: middle;\n",
       "    }\n",
       "\n",
       "    .dataframe tbody tr th {\n",
       "        vertical-align: top;\n",
       "    }\n",
       "\n",
       "    .dataframe thead th {\n",
       "        text-align: right;\n",
       "    }\n",
       "</style>\n",
       "<table border=\"1\" class=\"dataframe\">\n",
       "  <thead>\n",
       "    <tr style=\"text-align: right;\">\n",
       "      <th></th>\n",
       "      <th>links</th>\n",
       "      <th>office_type</th>\n",
       "      <th>Address</th>\n",
       "    </tr>\n",
       "  </thead>\n",
       "  <tbody>\n",
       "    <tr>\n",
       "      <th>0</th>\n",
       "      <td>http://tracywarris.exprealty.com/</td>\n",
       "      <td>Real estate agency</td>\n",
       "      <td>1500 W Georgia St #701</td>\n",
       "    </tr>\n",
       "    <tr>\n",
       "      <th>1</th>\n",
       "      <td>None</td>\n",
       "      <td>Real estate agency</td>\n",
       "      <td>701 W Georgia St #1500</td>\n",
       "    </tr>\n",
       "    <tr>\n",
       "      <th>2</th>\n",
       "      <td>None</td>\n",
       "      <td>Real estate agency</td>\n",
       "      <td>902 Alberni St</td>\n",
       "    </tr>\n",
       "    <tr>\n",
       "      <th>3</th>\n",
       "      <td>http://www.juliedonnelly.exprealty.com/</td>\n",
       "      <td>Real estate agency</td>\n",
       "      <td>701 W Georgia St #1500</td>\n",
       "    </tr>\n",
       "    <tr>\n",
       "      <th>4</th>\n",
       "      <td>None</td>\n",
       "      <td>Real estate agency</td>\n",
       "      <td>777 Hornby St Suite 600</td>\n",
       "    </tr>\n",
       "    <tr>\n",
       "      <th>5</th>\n",
       "      <td>None</td>\n",
       "      <td>Real estate agency</td>\n",
       "      <td>7184 120 St Suite #219</td>\n",
       "    </tr>\n",
       "    <tr>\n",
       "      <th>6</th>\n",
       "      <td>https://www.cresa.com/vancouver-bc</td>\n",
       "      <td>Commercial real estate agency</td>\n",
       "      <td>777 Hornby St #2088</td>\n",
       "    </tr>\n",
       "    <tr>\n",
       "      <th>7</th>\n",
       "      <td>http://www.vanpham.ca/</td>\n",
       "      <td>Real estate agency</td>\n",
       "      <td>701 W Georgia St #1500</td>\n",
       "    </tr>\n",
       "    <tr>\n",
       "      <th>8</th>\n",
       "      <td>http://www.piret.ca/</td>\n",
       "      <td>Real estate agency</td>\n",
       "      <td>925 W Georgia St</td>\n",
       "    </tr>\n",
       "    <tr>\n",
       "      <th>9</th>\n",
       "      <td>https://www.reeoic.com/</td>\n",
       "      <td>Real estate agency</td>\n",
       "      <td>700 W Pender St</td>\n",
       "    </tr>\n",
       "  </tbody>\n",
       "</table>\n",
       "</div>"
      ],
      "text/plain": [
       "                                     links                    office_type  \\\n",
       "0        http://tracywarris.exprealty.com/             Real estate agency   \n",
       "1                                     None             Real estate agency   \n",
       "2                                     None             Real estate agency   \n",
       "3  http://www.juliedonnelly.exprealty.com/             Real estate agency   \n",
       "4                                     None             Real estate agency   \n",
       "5                                     None             Real estate agency   \n",
       "6       https://www.cresa.com/vancouver-bc  Commercial real estate agency   \n",
       "7                   http://www.vanpham.ca/             Real estate agency   \n",
       "8                     http://www.piret.ca/             Real estate agency   \n",
       "9                  https://www.reeoic.com/             Real estate agency   \n",
       "\n",
       "                   Address  \n",
       "0   1500 W Georgia St #701  \n",
       "1   701 W Georgia St #1500  \n",
       "2           902 Alberni St  \n",
       "3   701 W Georgia St #1500  \n",
       "4  777 Hornby St Suite 600  \n",
       "5   7184 120 St Suite #219  \n",
       "6      777 Hornby St #2088  \n",
       "7   701 W Georgia St #1500  \n",
       "8         925 W Georgia St  \n",
       "9          700 W Pender St  "
      ]
     },
     "execution_count": 95,
     "metadata": {},
     "output_type": "execute_result"
    }
   ],
   "source": [
    "data = pd.DataFrame({\n",
    "'links' : links,\n",
    "'office_type':office_type,\n",
    "'Address':add})\n",
    "data.head(10)"
   ]
  },
  {
   "cell_type": "code",
   "execution_count": null,
   "metadata": {},
   "outputs": [],
   "source": []
  },
  {
   "cell_type": "code",
   "execution_count": null,
   "metadata": {},
   "outputs": [],
   "source": []
  }
 ],
 "metadata": {
  "kernelspec": {
   "display_name": "Python 3",
   "language": "python",
   "name": "python3"
  },
  "language_info": {
   "codemirror_mode": {
    "name": "ipython",
    "version": 3
   },
   "file_extension": ".py",
   "mimetype": "text/x-python",
   "name": "python",
   "nbconvert_exporter": "python",
   "pygments_lexer": "ipython3",
   "version": "3.7.6"
  }
 },
 "nbformat": 4,
 "nbformat_minor": 4
}
